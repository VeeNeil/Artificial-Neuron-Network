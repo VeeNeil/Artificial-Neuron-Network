{
 "cells": [
  {
   "cell_type": "code",
   "execution_count": 8,
   "id": "2e003f4a-daef-4dfc-be8f-edfdf41bbdc3",
   "metadata": {
    "tags": []
   },
   "outputs": [],
   "source": [
    "import pandas as pd\n",
    "import numpy as np\n",
    "import tensorflow as tf\n",
    "from sklearn.metrics import accuracy_score, classification_report\n",
    "from sklearn.model_selection import train_test_split\n",
    "from sklearn.preprocessing import StandardScaler\n",
    "from imblearn.over_sampling import SMOTE\n",
    "from tensorflow.keras import regularizers"
   ]
  },
  {
   "cell_type": "code",
   "execution_count": 3,
   "id": "0f96e05b-3017-4be7-a5c8-14f140a973dc",
   "metadata": {
    "tags": []
   },
   "outputs": [],
   "source": [
    "data = pd.read_csv('credit_risk_dataset.csv')\n",
    "\n",
    "data = pd.get_dummies(data, columns=[\"person_home_ownership\", \"loan_intent\", \"loan_grade\", \"cb_person_default_on_file\"])\n",
    "\n",
    "X = data.drop('loan_status', axis=1)\n",
    "y = data[\"loan_status\"]"
   ]
  },
  {
   "cell_type": "code",
   "execution_count": 17,
   "id": "1b4d1fa1-fe2f-4239-84a4-4280943bf64a",
   "metadata": {
    "tags": []
   },
   "outputs": [
    {
     "name": "stdout",
     "output_type": "stream",
     "text": [
      "Epoch 1/100\n",
      "1276/1276 [==============================] - 4s 2ms/step - loss: 228.2869 - accuracy: 0.5243 - val_loss: 1.0290 - val_accuracy: 0.2228\n",
      "Epoch 2/100\n",
      "1276/1276 [==============================] - 3s 2ms/step - loss: 18.2524 - accuracy: 0.5518 - val_loss: 1.4191 - val_accuracy: 0.2217\n",
      "Epoch 3/100\n",
      "1276/1276 [==============================] - 3s 2ms/step - loss: 4.5209 - accuracy: 0.5847 - val_loss: 1.6061 - val_accuracy: 0.2217\n",
      "Epoch 4/100\n",
      "1276/1276 [==============================] - 2s 1ms/step - loss: 2.1456 - accuracy: 0.5875 - val_loss: 1.6016 - val_accuracy: 0.2217\n",
      "Epoch 5/100\n",
      "1276/1276 [==============================] - 2s 1ms/step - loss: 1.2634 - accuracy: 0.5877 - val_loss: 1.3264 - val_accuracy: 0.2217\n",
      "Epoch 6/100\n",
      "1276/1276 [==============================] - 2s 2ms/step - loss: 0.8540 - accuracy: 0.6049 - val_loss: 1.0722 - val_accuracy: 0.2217\n",
      "Epoch 7/100\n",
      "1276/1276 [==============================] - 2s 2ms/step - loss: 0.7166 - accuracy: 0.6222 - val_loss: 0.9101 - val_accuracy: 0.2217\n",
      "Epoch 8/100\n",
      "1276/1276 [==============================] - 2s 2ms/step - loss: 0.6514 - accuracy: 0.6512 - val_loss: 0.8147 - val_accuracy: 0.2217\n",
      "Epoch 9/100\n",
      "1276/1276 [==============================] - 2s 2ms/step - loss: 0.6252 - accuracy: 0.6696 - val_loss: 0.7712 - val_accuracy: 0.2217\n",
      "Epoch 10/100\n",
      "1276/1276 [==============================] - 2s 1ms/step - loss: 0.6164 - accuracy: 0.6839 - val_loss: 0.7629 - val_accuracy: 0.2217\n",
      "Epoch 11/100\n",
      "1276/1276 [==============================] - 2s 1ms/step - loss: 0.6171 - accuracy: 0.6859 - val_loss: 0.7678 - val_accuracy: 0.2217\n",
      "Epoch 12/100\n",
      "1276/1276 [==============================] - 2s 1ms/step - loss: 0.6145 - accuracy: 0.6885 - val_loss: 0.7627 - val_accuracy: 0.2217\n",
      "Epoch 13/100\n",
      "1276/1276 [==============================] - 2s 1ms/step - loss: 0.6134 - accuracy: 0.6880 - val_loss: 0.7674 - val_accuracy: 0.2217\n",
      "Epoch 14/100\n",
      "1276/1276 [==============================] - 2s 1ms/step - loss: 0.6150 - accuracy: 0.6885 - val_loss: 0.7768 - val_accuracy: 0.2217\n",
      "Epoch 15/100\n",
      "1276/1276 [==============================] - 2s 1ms/step - loss: 0.6081 - accuracy: 0.6930 - val_loss: 0.7929 - val_accuracy: 0.2217\n",
      "Epoch 16/100\n",
      "1276/1276 [==============================] - 2s 1ms/step - loss: 0.6019 - accuracy: 0.6975 - val_loss: 0.7729 - val_accuracy: 0.2217\n",
      "Epoch 17/100\n",
      "1276/1276 [==============================] - 2s 1ms/step - loss: 0.5970 - accuracy: 0.7005 - val_loss: 0.7796 - val_accuracy: 0.5007\n",
      "Epoch 18/100\n",
      "1276/1276 [==============================] - 2s 1ms/step - loss: 0.5867 - accuracy: 0.7081 - val_loss: 0.7210 - val_accuracy: 0.6018\n",
      "Epoch 19/100\n",
      "1276/1276 [==============================] - 2s 1ms/step - loss: 0.5862 - accuracy: 0.7076 - val_loss: 0.7234 - val_accuracy: 0.6110\n",
      "Epoch 20/100\n",
      "1276/1276 [==============================] - 2s 1ms/step - loss: 0.5827 - accuracy: 0.7077 - val_loss: 0.7332 - val_accuracy: 0.6089\n",
      "Epoch 21/100\n",
      "1276/1276 [==============================] - 2s 1ms/step - loss: 0.5760 - accuracy: 0.7128 - val_loss: 0.7470 - val_accuracy: 0.6130\n",
      "Epoch 22/100\n",
      "1276/1276 [==============================] - 2s 1ms/step - loss: 0.5755 - accuracy: 0.7166 - val_loss: 0.6978 - val_accuracy: 0.6241\n",
      "Epoch 23/100\n",
      "1276/1276 [==============================] - 2s 1ms/step - loss: 0.5670 - accuracy: 0.7208 - val_loss: 0.6474 - val_accuracy: 0.6468\n",
      "Epoch 24/100\n",
      "1276/1276 [==============================] - 2s 1ms/step - loss: 0.5596 - accuracy: 0.7258 - val_loss: 0.6496 - val_accuracy: 0.6469\n",
      "Epoch 25/100\n",
      "1276/1276 [==============================] - 2s 2ms/step - loss: 0.5563 - accuracy: 0.7313 - val_loss: 0.6472 - val_accuracy: 0.6524\n",
      "Epoch 26/100\n",
      "1276/1276 [==============================] - 2s 2ms/step - loss: 0.5508 - accuracy: 0.7323 - val_loss: 0.6427 - val_accuracy: 0.6600\n",
      "Epoch 27/100\n",
      "1276/1276 [==============================] - 2s 1ms/step - loss: 0.5424 - accuracy: 0.7373 - val_loss: 0.5859 - val_accuracy: 0.7095\n",
      "Epoch 28/100\n",
      "1276/1276 [==============================] - 2s 1ms/step - loss: 0.5362 - accuracy: 0.7448 - val_loss: 0.6081 - val_accuracy: 0.6851\n",
      "Epoch 29/100\n",
      "1276/1276 [==============================] - 2s 1ms/step - loss: 0.5302 - accuracy: 0.7473 - val_loss: 0.5544 - val_accuracy: 0.7427\n",
      "Epoch 30/100\n",
      "1276/1276 [==============================] - 2s 1ms/step - loss: 0.5259 - accuracy: 0.7499 - val_loss: 0.6231 - val_accuracy: 0.6749\n",
      "Epoch 31/100\n",
      "1276/1276 [==============================] - 2s 1ms/step - loss: 0.5187 - accuracy: 0.7547 - val_loss: 0.5711 - val_accuracy: 0.7218\n",
      "Epoch 32/100\n",
      "1276/1276 [==============================] - 2s 1ms/step - loss: 0.5199 - accuracy: 0.7549 - val_loss: 0.6016 - val_accuracy: 0.6963\n",
      "Epoch 33/100\n",
      "1276/1276 [==============================] - 2s 1ms/step - loss: 0.5081 - accuracy: 0.7618 - val_loss: 0.6018 - val_accuracy: 0.6971\n",
      "Epoch 34/100\n",
      "1276/1276 [==============================] - 2s 1ms/step - loss: 0.5044 - accuracy: 0.7648 - val_loss: 0.6404 - val_accuracy: 0.6710\n",
      "Epoch 35/100\n",
      "1276/1276 [==============================] - 2s 1ms/step - loss: 0.4943 - accuracy: 0.7702 - val_loss: 0.6180 - val_accuracy: 0.6853\n",
      "Epoch 36/100\n",
      "1276/1276 [==============================] - 2s 1ms/step - loss: 0.4922 - accuracy: 0.7730 - val_loss: 0.6992 - val_accuracy: 0.6528\n",
      "Epoch 37/100\n",
      "1276/1276 [==============================] - 2s 1ms/step - loss: 0.4899 - accuracy: 0.7728 - val_loss: 0.8067 - val_accuracy: 0.6271\n",
      "Epoch 38/100\n",
      "1276/1276 [==============================] - 2s 1ms/step - loss: 0.4788 - accuracy: 0.7798 - val_loss: 0.7663 - val_accuracy: 0.6399\n",
      "Epoch 39/100\n",
      "1276/1276 [==============================] - 2s 1ms/step - loss: 0.4770 - accuracy: 0.7837 - val_loss: 0.7153 - val_accuracy: 0.6440\n"
     ]
    }
   ],
   "source": [
    "early_stop = tf.keras.callbacks.EarlyStopping(monitor='val_loss', patience=10)\n",
    "X_train, X_test, y_train, y_test = train_test_split(X, y, test_size=0.2, random_state=42)\n",
    "smote = SMOTE(random_state=42)\n",
    "X_resampled, y_resampled = smote.fit_resample(X_train, y_train)\n",
    "scaler = StandardScaler()\n",
    "X_train = scaler.fit_transform(X_train)\n",
    "X_test = scaler.transform(X_test)\n",
    "\n",
    "model = tf.keras.Sequential([\n",
    "    tf.keras.layers.Dense(units=32, activation='leaky_relu', input_shape=(X_train.shape[1],)),\n",
    "    tf.keras.layers.Dropout(0.3),\n",
    "    tf.keras.layers.Dense(units=16, activation='leaky_relu'),\n",
    "    tf.keras.layers.Dropout(0.2),\n",
    "    tf.keras.layers.Dense(units=8, activation='leaky_relu'),\n",
    "    tf.keras.layers.Dropout(0.1),\n",
    "    tf.keras.layers.Dense(units=1, activation='sigmoid')\n",
    "])\n",
    "\n",
    "model.compile(optimizer='Nadam', loss='binary_crossentropy', metrics=['accuracy'])\n",
    "history = model.fit(X_resampled, y_resampled, epochs=100, validation_data=(X_test, y_test), callbacks=[early_stop])\n",
    "\n"
   ]
  },
  {
   "cell_type": "code",
   "execution_count": 18,
   "id": "93fe8d9e-5d8b-45fa-96c1-1b88bcb267ca",
   "metadata": {
    "tags": []
   },
   "outputs": [
    {
     "name": "stdout",
     "output_type": "stream",
     "text": [
      "204/204 [==============================] - 0s 918us/step - loss: 0.7153 - accuracy: 0.6440\n",
      "204/204 [==============================] - 0s 794us/step\n"
     ]
    }
   ],
   "source": [
    "test_loss, test_acc = model.evaluate(X_test, y_test)\n",
    "y_pred = model.predict(X_test)\n",
    "y_pred = (y_pred > 0.5)"
   ]
  },
  {
   "cell_type": "code",
   "execution_count": 19,
   "id": "17d07ad4-84c5-46c6-89cf-e12524649139",
   "metadata": {
    "tags": []
   },
   "outputs": [
    {
     "name": "stdout",
     "output_type": "stream",
     "text": [
      "Accuracy: 64.40%\n",
      "              precision    recall  f1-score   support\n",
      "\n",
      "  No_Default       0.92      0.59      0.72      5072\n",
      "     Default       0.37      0.83      0.51      1445\n",
      "\n",
      "    accuracy                           0.64      6517\n",
      "   macro avg       0.64      0.71      0.61      6517\n",
      "weighted avg       0.80      0.64      0.67      6517\n",
      "\n"
     ]
    }
   ],
   "source": [
    "target_names =['No_Default', 'Default']\n",
    "print(\"Accuracy: {:.2f}%\".format(accuracy_score(y_test, y_pred) * 100))\n",
    "print(classification_report(y_test, y_pred, target_names =target_names))"
   ]
  },
  {
   "cell_type": "code",
   "execution_count": null,
   "id": "41c86a9a-f594-4ffc-9e59-c0a28dc9c2d9",
   "metadata": {},
   "outputs": [],
   "source": []
  }
 ],
 "metadata": {
  "kernelspec": {
   "display_name": "Python 3 (ipykernel)",
   "language": "python",
   "name": "python3"
  },
  "language_info": {
   "codemirror_mode": {
    "name": "ipython",
    "version": 3
   },
   "file_extension": ".py",
   "mimetype": "text/x-python",
   "name": "python",
   "nbconvert_exporter": "python",
   "pygments_lexer": "ipython3",
   "version": "3.9.7"
  }
 },
 "nbformat": 4,
 "nbformat_minor": 5
}
